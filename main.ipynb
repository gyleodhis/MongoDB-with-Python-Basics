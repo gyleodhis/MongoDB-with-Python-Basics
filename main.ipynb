{
 "cells": [
  {
   "cell_type": "markdown",
   "metadata": {},
   "source": [
    "Functions and Strings\n",
    "The following code example defines custom functions and uses builtin ones:\n",
    "A popular coding style is to present library importation and functions first, followed by the main block of code. "
   ]
  },
  {
   "cell_type": "code",
   "execution_count": 1,
   "metadata": {},
   "outputs": [],
   "source": [
    "import numpy as np\n",
    "def num_to_str(n):\n",
    "    return str(n)\n",
    "\n",
    "def str_to_int(s):\n",
    "    return int(s)\n",
    "\n",
    "def str_to_float(f):\n",
    "    return float(f)\n"
   ]
  },
  {
   "cell_type": "code",
   "execution_count": 2,
   "metadata": {},
   "outputs": [
    {
     "name": "stdout",
     "output_type": "stream",
     "text": [
      "999.01 is <class 'str'>\n",
      "87 is <class 'str'>\n",
      "23.09 is <class 'float'>\n",
      "19 is <class 'int'>\n"
     ]
    }
   ],
   "source": [
    "if __name__==\"__main__\":\n",
    "    float_num = 999.01\n",
    "    int_num = 87\n",
    "    float_str = '23.09'\n",
    "    int_str = '19'\n",
    "    string = 'Hello world'\n",
    "    s_float = num_to_str(float_num)\n",
    "    s_int = num_to_str(int_num)\n",
    "    i_str = str_to_int(int_str)\n",
    "    f_str = str_to_float(float_str)\n",
    "    print (s_float, 'is', type(s_float))\n",
    "    print (s_int, 'is', type(s_int))\n",
    "    print (f_str, 'is', type(f_str))\n",
    "    print (i_str, 'is', type(i_str))\n"
   ]
  },
  {
   "cell_type": "code",
   "execution_count": 3,
   "metadata": {},
   "outputs": [
    {
     "name": "stdout",
     "output_type": "stream",
     "text": [
      "\n",
      "string \"Hello world\" has 11 characters\n",
      "split string: ['Hello', 'world']\n",
      "joined list: Hello world\n"
     ]
    }
   ],
   "source": [
    "print('\\nstring', '\"' + string + '\" has', len(string), 'characters')\n",
    "str_ls = string.split()\n",
    "print ('split string:', str_ls)\n",
    "print ('joined list:', ' '.join(str_ls))"
   ]
  },
  {
   "cell_type": "markdown",
   "metadata": {},
   "source": [
    "## Lists\n",
    "Lists are ordered collections with comma-separated values between square brackets. Indices start at 0 (zero)."
   ]
  },
  {
   "cell_type": "code",
   "execution_count": 4,
   "metadata": {},
   "outputs": [
    {
     "name": "stdout",
     "output_type": "stream",
     "text": [
      "list length: 7 items\n",
      "cat count: 1 , cat index: 6\n",
      "\n",
      "manipulate list:\n",
      "Fruit: orange , list: ['banana', 10, 'leaf', 77.009, 'tree', 'cat']\n"
     ]
    }
   ],
   "source": [
    "if __name__==\"__main__\":\n",
    "    ls = ['orange', 'banana', 10, 'leaf', 77.009, 'tree', 'cat']\n",
    "    print ('list length:', len(ls), 'items')\n",
    "    print ('cat count:', ls.count('cat'), ',', 'cat index:',ls.index('cat'))\n",
    "    print ('\\nmanipulate list:')\n",
    "    fruit = ls.pop(0)\n",
    "    print ('Fruit:', fruit, ', list:', ls)"
   ]
  },
  {
   "cell_type": "code",
   "execution_count": 5,
   "metadata": {},
   "outputs": [
    {
     "data": {
      "text/plain": [
       "['cow', 'banana', 10, 'leaf', 77.009, 'tree', 'cat', 99]"
      ]
     },
     "execution_count": 5,
     "metadata": {},
     "output_type": "execute_result"
    }
   ],
   "source": [
    "ls.insert(0, 'cow')\n",
    "ls.append(99)\n",
    "ls"
   ]
  },
  {
   "cell_type": "markdown",
   "metadata": {},
   "source": [
    "### List Slicing"
   ]
  },
  {
   "cell_type": "code",
   "execution_count": 6,
   "metadata": {},
   "outputs": [
    {
     "name": "stdout",
     "output_type": "stream",
     "text": [
      "\n",
      "slicing the list:\n",
      "1st 3 elements: ['cow', 'banana', 10]\n",
      "Excluding the first three: ['leaf', 77.009, 'tree', 'cat', 99]\n",
      "start at 2nd to index 5: ['banana', 10, 'leaf', 77.009]\n"
     ]
    }
   ],
   "source": [
    "print ('\\nslicing the list:')\n",
    "print ('1st 3 elements:', ls[:3]) #(putting -3 returns everything except the last three)\n",
    "print ('Excluding the first three:', ls[3:]) # -3 returns the last three\n",
    "print ('start at 2nd to index 5:', ls[1:5])"
   ]
  },
  {
   "cell_type": "code",
   "execution_count": 7,
   "metadata": {},
   "outputs": [
    {
     "name": "stdout",
     "output_type": "stream",
     "text": [
      "start 3 from end to end of list: ['tree', 'cat', 99]\n",
      "start from 2nd to next to end of list: ['banana', 10, 'leaf', 77.009, 'tree', 'cat']\n"
     ]
    }
   ],
   "source": [
    "print ('start 3 from end to end of list:', ls[-3:])\n",
    "print ('start from 2nd to next to end of list:', ls[1:-1])"
   ]
  },
  {
   "cell_type": "markdown",
   "metadata": {},
   "source": [
    "### Creating a new list from another list"
   ]
  },
  {
   "cell_type": "code",
   "execution_count": 8,
   "metadata": {},
   "outputs": [
    {
     "name": "stdout",
     "output_type": "stream",
     "text": [
      "appended list: ['orange', ['apple', 'kiwi', 'pear']]\n"
     ]
    }
   ],
   "source": [
    "fruit = ['orange']\n",
    "more_fruit = ['apple', 'kiwi', 'pear']\n",
    "fruit.append(more_fruit)\n",
    "print ('appended list:', fruit)"
   ]
  },
  {
   "cell_type": "code",
   "execution_count": 9,
   "metadata": {},
   "outputs": [
    {
     "data": {
      "text/plain": [
       "['apple', 'kiwi', 'pear']"
      ]
     },
     "execution_count": 9,
     "metadata": {},
     "output_type": "execute_result"
    }
   ],
   "source": [
    "fruit.pop(1)"
   ]
  },
  {
   "cell_type": "markdown",
   "metadata": {},
   "source": [
    "#### Using extend to append two lists."
   ]
  },
  {
   "cell_type": "code",
   "execution_count": 10,
   "metadata": {},
   "outputs": [
    {
     "name": "stdout",
     "output_type": "stream",
     "text": [
      "extended: ['orange', 'apple', 'kiwi', 'pear']\n"
     ]
    }
   ],
   "source": [
    "fruit.extend(more_fruit)\n",
    "print ('extended:', fruit)"
   ]
  },
  {
   "cell_type": "code",
   "execution_count": 11,
   "metadata": {},
   "outputs": [
    {
     "name": "stdout",
     "output_type": "stream",
     "text": [
      "slices: kiwi apple\n"
     ]
    }
   ],
   "source": [
    "a, b = fruit[2], fruit[1]\n",
    "print ('slices:', a, b)"
   ]
  },
  {
   "cell_type": "markdown",
   "metadata": {},
   "source": [
    "## Tuples\n",
    "A tuple is a sequence of immutable Python objects enclosed by parentheses. Unlike lists, tuples cannot be changed. Tuples are convenient with functions that return multiple values."
   ]
  },
  {
   "cell_type": "code",
   "execution_count": 16,
   "metadata": {},
   "outputs": [
    {
     "name": "stdout",
     "output_type": "stream",
     "text": [
      "tuple length: 5\n"
     ]
    }
   ],
   "source": [
    "import numpy as np\n",
    "if __name__ == \"__main__\":\n",
    "    tup = ('orange', 'banana', 'grape', 'apple', 'grape')\n",
    "    print ('tuple length:', len(tup))"
   ]
  },
  {
   "cell_type": "code",
   "execution_count": 17,
   "metadata": {},
   "outputs": [
    {
     "name": "stdout",
     "output_type": "stream",
     "text": [
      "grape count: 2\n"
     ]
    }
   ],
   "source": [
    "print ('grape count:', tup.count('grape'))"
   ]
  },
  {
   "cell_type": "markdown",
   "metadata": {},
   "source": [
    "### Tuple slicing\n",
    "Tuple slicing is done the same way as lists"
   ]
  },
  {
   "cell_type": "markdown",
   "metadata": {},
   "source": [
    "## Dictionaries\n",
    "A dictionary is an unordered collection of items identified by a key/ value pair. It is an extremely important data structure for working with data. The following example is very simple, but the next section presents a more complex example based on a dataset."
   ]
  },
  {
   "cell_type": "code",
   "execution_count": 19,
   "metadata": {},
   "outputs": [
    {
     "name": "stdout",
     "output_type": "stream",
     "text": [
      "dict \"deleted\" element;\n",
      "{'amp': 'Linn', 'sp': 'Crystal Ultra', 'pc': 'JPS', 'power': 'Equi-Tech', 'ic': 'Crystal Ultra', 'cdp': 'Nagra', 'speakers': 'Energy', 'preamp': 'Luxman'} \n",
      "\n",
      "dict \"added\" element;\n",
      "{'amp': 'Linn', 'sp': 'Crystal Ultra', 'pc': 'JPS', 'power': 'Equi-Tech', 'ic': 'Crystal Ultra', 'up': 'Oppo', 'cdp': 'Nagra', 'speakers': 'Energy', 'preamp': 'Luxman'} \n",
      "\n"
     ]
    }
   ],
   "source": [
    "if __name__ == \"__main__\":\n",
    "    audio = {'amp':'Linn', 'preamp':'Luxman', 'speakers':'Energy',\n",
    "             'ic':'Crystal Ultra', 'pc':'JPS', 'power':'Equi-Tech',\n",
    "             'sp':'Crystal Ultra', 'cdp':'Nagra', 'up':'Esoteric'}\n",
    "    del audio['up'] # delets an element from the dict\n",
    "    print ('dict \"deleted\" element;')\n",
    "    print (audio, '\\n')\n",
    "    print ('dict \"added\" element;')\n",
    "    audio['up'] = 'Oppo' # adds an element from the dict\n",
    "    print (audio, '\\n')"
   ]
  },
  {
   "cell_type": "markdown",
   "metadata": {},
   "source": [
    "## Reading and Writing Data\n"
   ]
  },
  {
   "cell_type": "code",
   "execution_count": null,
   "metadata": {},
   "outputs": [],
   "source": []
  },
  {
   "cell_type": "code",
   "execution_count": null,
   "metadata": {},
   "outputs": [],
   "source": []
  },
  {
   "cell_type": "code",
   "execution_count": null,
   "metadata": {},
   "outputs": [],
   "source": []
  }
 ],
 "metadata": {
  "kernelspec": {
   "display_name": "Python 3",
   "language": "python",
   "name": "python3"
  },
  "language_info": {
   "codemirror_mode": {
    "name": "ipython",
    "version": 3
   },
   "file_extension": ".py",
   "mimetype": "text/x-python",
   "name": "python",
   "nbconvert_exporter": "python",
   "pygments_lexer": "ipython3",
   "version": "3.5.2"
  }
 },
 "nbformat": 4,
 "nbformat_minor": 2
}
